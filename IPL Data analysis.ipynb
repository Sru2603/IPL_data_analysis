{
 "cells": [
  {
   "cell_type": "markdown",
   "id": "d03ad4a1-3c70-4bcd-9bdf-ff096b95001d",
   "metadata": {},
   "source": [
    "# Dataset : IPL data"
   ]
  },
  {
   "cell_type": "code",
   "execution_count": 1,
   "id": "a3c3308b-d1a2-4b89-8f9e-5db780d733b1",
   "metadata": {},
   "outputs": [],
   "source": [
    "import pandas as pd"
   ]
  },
  {
   "cell_type": "code",
   "execution_count": 2,
   "id": "d6ddbf47-49e0-48cd-aa48-56ec928f8896",
   "metadata": {},
   "outputs": [],
   "source": [
    "df=pd.read_csv(\"C:/Users/perfect/Downloads/Python_projects/Python_projects/IPL_Data_analysis/IPL_Dataset.csv\")"
   ]
  },
  {
   "cell_type": "code",
   "execution_count": 3,
   "id": "716ffc6b-b0ad-4e38-8e60-ec51ca065b28",
   "metadata": {},
   "outputs": [
    {
     "data": {
      "text/html": [
       "<div>\n",
       "<style scoped>\n",
       "    .dataframe tbody tr th:only-of-type {\n",
       "        vertical-align: middle;\n",
       "    }\n",
       "\n",
       "    .dataframe tbody tr th {\n",
       "        vertical-align: top;\n",
       "    }\n",
       "\n",
       "    .dataframe thead th {\n",
       "        text-align: right;\n",
       "    }\n",
       "</style>\n",
       "<table border=\"1\" class=\"dataframe\">\n",
       "  <thead>\n",
       "    <tr style=\"text-align: right;\">\n",
       "      <th></th>\n",
       "      <th>match_id</th>\n",
       "      <th>inning</th>\n",
       "      <th>batting_team</th>\n",
       "      <th>bowling_team</th>\n",
       "      <th>over</th>\n",
       "      <th>ball</th>\n",
       "      <th>batsman</th>\n",
       "      <th>non_striker</th>\n",
       "      <th>bowler</th>\n",
       "      <th>is_super_over</th>\n",
       "      <th>...</th>\n",
       "      <th>bye_runs</th>\n",
       "      <th>legbye_runs</th>\n",
       "      <th>noball_runs</th>\n",
       "      <th>penalty_runs</th>\n",
       "      <th>batsman_runs</th>\n",
       "      <th>extra_runs</th>\n",
       "      <th>total_runs</th>\n",
       "      <th>player_dismissed</th>\n",
       "      <th>dismissal_kind</th>\n",
       "      <th>fielder</th>\n",
       "    </tr>\n",
       "  </thead>\n",
       "  <tbody>\n",
       "    <tr>\n",
       "      <th>0</th>\n",
       "      <td>1</td>\n",
       "      <td>1</td>\n",
       "      <td>Sunrisers Hyderabad</td>\n",
       "      <td>Royal Challengers Bangalore</td>\n",
       "      <td>1</td>\n",
       "      <td>1</td>\n",
       "      <td>DA Warner</td>\n",
       "      <td>S Dhawan</td>\n",
       "      <td>TS Mills</td>\n",
       "      <td>0</td>\n",
       "      <td>...</td>\n",
       "      <td>0</td>\n",
       "      <td>0</td>\n",
       "      <td>0</td>\n",
       "      <td>0</td>\n",
       "      <td>0</td>\n",
       "      <td>0</td>\n",
       "      <td>0</td>\n",
       "      <td>NaN</td>\n",
       "      <td>NaN</td>\n",
       "      <td>NaN</td>\n",
       "    </tr>\n",
       "    <tr>\n",
       "      <th>1</th>\n",
       "      <td>1</td>\n",
       "      <td>1</td>\n",
       "      <td>Sunrisers Hyderabad</td>\n",
       "      <td>Royal Challengers Bangalore</td>\n",
       "      <td>1</td>\n",
       "      <td>2</td>\n",
       "      <td>DA Warner</td>\n",
       "      <td>S Dhawan</td>\n",
       "      <td>TS Mills</td>\n",
       "      <td>0</td>\n",
       "      <td>...</td>\n",
       "      <td>0</td>\n",
       "      <td>0</td>\n",
       "      <td>0</td>\n",
       "      <td>0</td>\n",
       "      <td>0</td>\n",
       "      <td>0</td>\n",
       "      <td>0</td>\n",
       "      <td>NaN</td>\n",
       "      <td>NaN</td>\n",
       "      <td>NaN</td>\n",
       "    </tr>\n",
       "    <tr>\n",
       "      <th>2</th>\n",
       "      <td>1</td>\n",
       "      <td>1</td>\n",
       "      <td>Sunrisers Hyderabad</td>\n",
       "      <td>Royal Challengers Bangalore</td>\n",
       "      <td>1</td>\n",
       "      <td>3</td>\n",
       "      <td>DA Warner</td>\n",
       "      <td>S Dhawan</td>\n",
       "      <td>TS Mills</td>\n",
       "      <td>0</td>\n",
       "      <td>...</td>\n",
       "      <td>0</td>\n",
       "      <td>0</td>\n",
       "      <td>0</td>\n",
       "      <td>0</td>\n",
       "      <td>4</td>\n",
       "      <td>0</td>\n",
       "      <td>4</td>\n",
       "      <td>NaN</td>\n",
       "      <td>NaN</td>\n",
       "      <td>NaN</td>\n",
       "    </tr>\n",
       "    <tr>\n",
       "      <th>3</th>\n",
       "      <td>1</td>\n",
       "      <td>1</td>\n",
       "      <td>Sunrisers Hyderabad</td>\n",
       "      <td>Royal Challengers Bangalore</td>\n",
       "      <td>1</td>\n",
       "      <td>4</td>\n",
       "      <td>DA Warner</td>\n",
       "      <td>S Dhawan</td>\n",
       "      <td>TS Mills</td>\n",
       "      <td>0</td>\n",
       "      <td>...</td>\n",
       "      <td>0</td>\n",
       "      <td>0</td>\n",
       "      <td>0</td>\n",
       "      <td>0</td>\n",
       "      <td>0</td>\n",
       "      <td>0</td>\n",
       "      <td>0</td>\n",
       "      <td>NaN</td>\n",
       "      <td>NaN</td>\n",
       "      <td>NaN</td>\n",
       "    </tr>\n",
       "    <tr>\n",
       "      <th>4</th>\n",
       "      <td>1</td>\n",
       "      <td>1</td>\n",
       "      <td>Sunrisers Hyderabad</td>\n",
       "      <td>Royal Challengers Bangalore</td>\n",
       "      <td>1</td>\n",
       "      <td>5</td>\n",
       "      <td>DA Warner</td>\n",
       "      <td>S Dhawan</td>\n",
       "      <td>TS Mills</td>\n",
       "      <td>0</td>\n",
       "      <td>...</td>\n",
       "      <td>0</td>\n",
       "      <td>0</td>\n",
       "      <td>0</td>\n",
       "      <td>0</td>\n",
       "      <td>0</td>\n",
       "      <td>2</td>\n",
       "      <td>2</td>\n",
       "      <td>NaN</td>\n",
       "      <td>NaN</td>\n",
       "      <td>NaN</td>\n",
       "    </tr>\n",
       "  </tbody>\n",
       "</table>\n",
       "<p>5 rows × 21 columns</p>\n",
       "</div>"
      ],
      "text/plain": [
       "   match_id  inning         batting_team                 bowling_team  over  \\\n",
       "0         1       1  Sunrisers Hyderabad  Royal Challengers Bangalore     1   \n",
       "1         1       1  Sunrisers Hyderabad  Royal Challengers Bangalore     1   \n",
       "2         1       1  Sunrisers Hyderabad  Royal Challengers Bangalore     1   \n",
       "3         1       1  Sunrisers Hyderabad  Royal Challengers Bangalore     1   \n",
       "4         1       1  Sunrisers Hyderabad  Royal Challengers Bangalore     1   \n",
       "\n",
       "   ball    batsman non_striker    bowler  is_super_over  ...  bye_runs  \\\n",
       "0     1  DA Warner    S Dhawan  TS Mills              0  ...         0   \n",
       "1     2  DA Warner    S Dhawan  TS Mills              0  ...         0   \n",
       "2     3  DA Warner    S Dhawan  TS Mills              0  ...         0   \n",
       "3     4  DA Warner    S Dhawan  TS Mills              0  ...         0   \n",
       "4     5  DA Warner    S Dhawan  TS Mills              0  ...         0   \n",
       "\n",
       "   legbye_runs  noball_runs  penalty_runs  batsman_runs  extra_runs  \\\n",
       "0            0            0             0             0           0   \n",
       "1            0            0             0             0           0   \n",
       "2            0            0             0             4           0   \n",
       "3            0            0             0             0           0   \n",
       "4            0            0             0             0           2   \n",
       "\n",
       "   total_runs  player_dismissed dismissal_kind fielder  \n",
       "0           0               NaN            NaN     NaN  \n",
       "1           0               NaN            NaN     NaN  \n",
       "2           4               NaN            NaN     NaN  \n",
       "3           0               NaN            NaN     NaN  \n",
       "4           2               NaN            NaN     NaN  \n",
       "\n",
       "[5 rows x 21 columns]"
      ]
     },
     "execution_count": 3,
     "metadata": {},
     "output_type": "execute_result"
    }
   ],
   "source": [
    "df.head()"
   ]
  },
  {
   "cell_type": "code",
   "execution_count": 6,
   "id": "87d544a2-113c-4f04-8197-7d01bdfc5038",
   "metadata": {},
   "outputs": [
    {
     "data": {
      "text/plain": [
       "batting_team\n",
       "Chennai Super Kings            20899\n",
       "Deccan Chargers                11463\n",
       "Delhi Daredevils               21953\n",
       "Gujarat Lions                   4862\n",
       "Kings XI Punjab                23068\n",
       "Kochi Tuskers Kerala            1901\n",
       "Kolkata Knight Riders          21965\n",
       "Mumbai Indians                 24521\n",
       "Pune Warriors                   6358\n",
       "Rajasthan Royals               17703\n",
       "Rising Pune Supergiant          2470\n",
       "Rising Pune Supergiants         2063\n",
       "Royal Challengers Bangalore    23436\n",
       "Sunrisers Hyderabad            11652\n",
       "Name: total_runs, dtype: int64"
      ]
     },
     "execution_count": 6,
     "metadata": {},
     "output_type": "execute_result"
    }
   ],
   "source": [
    "# Analyse the data and give the answers of below questions :\n",
    "# 1. What is the total number of runs scored by each batting team?\n",
    "df.groupby(by='batting_team')['total_runs'].sum()"
   ]
  },
  {
   "cell_type": "code",
   "execution_count": 7,
   "id": "71606dfe-e4d9-42da-9853-2aed7123a874",
   "metadata": {},
   "outputs": [
    {
     "data": {
      "text/plain": [
       "bowling_team\n",
       "Chennai Super Kings            526\n",
       "Deccan Chargers                328\n",
       "Delhi Daredevils               614\n",
       "Gujarat Lions                  107\n",
       "Kings XI Punjab                668\n",
       "Kochi Tuskers Kerala            56\n",
       "Kolkata Knight Riders          658\n",
       "Mumbai Indians                 786\n",
       "Pune Warriors                  174\n",
       "Rajasthan Royals               586\n",
       "Rising Pune Supergiant          69\n",
       "Rising Pune Supergiants         77\n",
       "Royal Challengers Bangalore    725\n",
       "Sunrisers Hyderabad            268\n",
       "Name: wide_runs, dtype: int64"
      ]
     },
     "execution_count": 7,
     "metadata": {},
     "output_type": "execute_result"
    }
   ],
   "source": [
    "# 2. How many wides have been bowled by each bowling team?\n",
    "df.groupby(by='bowling_team')['wide_runs'].sum()"
   ]
  },
  {
   "cell_type": "code",
   "execution_count": 7,
   "id": "978d5122-ab17-4c4d-bc16-9cb753d7a2c4",
   "metadata": {},
   "outputs": [
    {
     "data": {
      "text/plain": [
       "batting_team\n",
       "Chennai Super Kings            6966.333333\n",
       "Deccan Chargers                5731.500000\n",
       "Delhi Daredevils               7317.666667\n",
       "Gujarat Lions                  1620.666667\n",
       "Kings XI Punjab                5767.000000\n",
       "Kochi Tuskers Kerala            950.500000\n",
       "Kolkata Knight Riders          7321.666667\n",
       "Mumbai Indians                 8173.666667\n",
       "Pune Warriors                  3179.000000\n",
       "Rajasthan Royals               5901.000000\n",
       "Rising Pune Supergiant         1235.000000\n",
       "Rising Pune Supergiants        1031.500000\n",
       "Royal Challengers Bangalore    5859.000000\n",
       "Sunrisers Hyderabad            3884.000000\n",
       "Name: total_runs, dtype: float64"
      ]
     },
     "execution_count": 7,
     "metadata": {},
     "output_type": "execute_result"
    }
   ],
   "source": [
    "# 3. What is the average number of runs scored per inning by each team?\n",
    "a = df.groupby(['batting_team','inning'])['total_runs'].sum()\n",
    "a.groupby('batting_team').mean()"
   ]
  },
  {
   "cell_type": "code",
   "execution_count": 8,
   "id": "43f25ce4-d80e-4fb5-b547-f1e73a4c0df0",
   "metadata": {},
   "outputs": [
    {
     "data": {
      "text/plain": [
       "'SK Raina'"
      ]
     },
     "execution_count": 8,
     "metadata": {},
     "output_type": "execute_result"
    }
   ],
   "source": [
    "# 4. Which batsman has scored the highest number of runs?\n",
    "df.groupby('batsman')['batsman_runs'].sum().idxmax()"
   ]
  },
  {
   "cell_type": "code",
   "execution_count": 12,
   "id": "87f3feca-cf8b-41dd-be7c-a5c9c3dd82eb",
   "metadata": {},
   "outputs": [
    {
     "data": {
      "text/plain": [
       "dismissal_kind\n",
       "bowled                   1382\n",
       "caught                   4373\n",
       "caught and bowled         211\n",
       "hit wicket                  9\n",
       "lbw                       455\n",
       "obstructing the field       1\n",
       "retired hurt                9\n",
       "run out                   755\n",
       "stumped                   243\n",
       "Name: player_dismissed, dtype: int64"
      ]
     },
     "execution_count": 12,
     "metadata": {},
     "output_type": "execute_result"
    }
   ],
   "source": [
    "# 5. How many dismissals have occurred of each dismissal kind?\n",
    "df.groupby(by='dismissal_kind')['player_dismissed'].count()"
   ]
  },
  {
   "cell_type": "code",
   "execution_count": 10,
   "id": "001cd51e-7eda-4188-8b63-ee4a1cd4eef2",
   "metadata": {},
   "outputs": [
    {
     "data": {
      "text/plain": [
       "match_id  over\n",
       "1         1       18\n",
       "          2       17\n",
       "          3       22\n",
       "          4       19\n",
       "          5       14\n",
       "                  ..\n",
       "636       16      11\n",
       "          17      19\n",
       "          18      19\n",
       "          19      28\n",
       "          20      33\n",
       "Name: total_runs, Length: 12582, dtype: int64"
      ]
     },
     "execution_count": 10,
     "metadata": {},
     "output_type": "execute_result"
    }
   ],
   "source": [
    "# 6. What is the total runs scored by each over?\n",
    "df.groupby(['match_id','over'])['total_runs'].sum()"
   ]
  },
  {
   "cell_type": "code",
   "execution_count": 17,
   "id": "ebdd927a-d849-49d0-aa0b-88b2c19491a3",
   "metadata": {},
   "outputs": [
    {
     "name": "stdout",
     "output_type": "stream",
     "text": [
      "SL Malinga 154\n"
     ]
    }
   ],
   "source": [
    "# 7. Which bowler has taken the most wickets?\n",
    "wicket_dismissals = df[df['dismissal_kind'] != 'run out']\n",
    "\n",
    "wickets_by_bowler = wicket_dismissals.groupby('bowler')['player_dismissed'].count()\n",
    "most_wickets_bowler = wickets_by_bowler.idxmax()\n",
    "most_wickets_count = wickets_by_bowler.max()\n",
    "print(most_wickets_bowler,most_wickets_count)"
   ]
  },
  {
   "cell_type": "code",
   "execution_count": 18,
   "id": "deb0ed37-99a0-4f7d-8d40-c65ff210ccee",
   "metadata": {},
   "outputs": [
    {
     "data": {
      "text/plain": [
       "81"
      ]
     },
     "execution_count": 18,
     "metadata": {},
     "output_type": "execute_result"
    }
   ],
   "source": [
    "# 8. How many super overs have been played in total?\n",
    "df['is_super_over'].sum()"
   ]
  },
  {
   "cell_type": "code",
   "execution_count": 15,
   "id": "a1c7557c-114b-4358-8a59-b676b11cc337",
   "metadata": {},
   "outputs": [
    {
     "name": "stdout",
     "output_type": "stream",
     "text": [
      "bowling_team\n",
      "Chennai Super Kings            334.000000\n",
      "Deccan Chargers                329.500000\n",
      "Delhi Daredevils               395.666667\n",
      "Gujarat Lions                   62.666667\n",
      "Kings XI Punjab                307.500000\n",
      "Kochi Tuskers Kerala            55.000000\n",
      "Kolkata Knight Riders          401.333333\n",
      "Mumbai Indians                 465.666667\n",
      "Pune Warriors                  167.500000\n",
      "Rajasthan Royals               352.666667\n",
      "Rising Pune Supergiant          55.500000\n",
      "Rising Pune Supergiants         54.000000\n",
      "Royal Challengers Bangalore    327.250000\n",
      "Sunrisers Hyderabad            162.333333\n",
      "Name: total_extras, dtype: float64\n"
     ]
    }
   ],
   "source": [
    "# 9. What is the average number of extras (wide runs, bye runs, legbye runs, noball runs, penalty runs) conceded per inning by each bowling team?\n",
    "df['total_extras'] = df['wide_runs'] + df['bye_runs'] + df['legbye_runs'] + df['noball_runs'] + df['penalty_runs']\n",
    "\n",
    "# Group by bowling team and inning, then calculate the sum of extras per inning\n",
    "extras_per_inning = df.groupby(['bowling_team', 'inning'])['total_extras'].sum()\n",
    "\n",
    "# Calculate the average extras conceded per inning by each bowling team\n",
    "average_extras_per_inning = extras_per_inning.groupby('bowling_team').mean()\n",
    "\n",
    "print(average_extras_per_inning)"
   ]
  },
  {
   "cell_type": "code",
   "execution_count": 14,
   "id": "5ff070b9-3aec-45e7-9149-c2c9dc15d149",
   "metadata": {},
   "outputs": [
    {
     "data": {
      "text/plain": [
       "batsman         bowler         \n",
       "A Ashish Reddy  A Nehra             7\n",
       "                AB Dinda            9\n",
       "                AD Mathews         25\n",
       "                AD Russell          4\n",
       "                Anureet Singh       2\n",
       "                                   ..\n",
       "Z Khan          SR Watson           3\n",
       "                Shakib Al Hasan     3\n",
       "                Sohail Tanvir       3\n",
       "                VRV Singh           0\n",
       "                YK Pathan           1\n",
       "Name: batsman_runs, Length: 17151, dtype: int64"
      ]
     },
     "execution_count": 14,
     "metadata": {},
     "output_type": "execute_result"
    }
   ],
   "source": [
    "# 10. How many runs have been scored by each batsman-bowler pair?\n",
    "df.groupby(['batsman', 'bowler'])['batsman_runs'].sum()"
   ]
  },
  {
   "cell_type": "code",
   "execution_count": 13,
   "id": "9a37698e-21a9-4769-abbe-97f800ac8524",
   "metadata": {},
   "outputs": [
    {
     "name": "stdout",
     "output_type": "stream",
     "text": [
      "caught 4373\n"
     ]
    }
   ],
   "source": [
    "# 11. What is the most common dismissal kind?\n",
    "a=df['dismissal_kind'].value_counts()\n",
    "b=a.idxmax()\n",
    "c=a.max()\n",
    "print(b,c)"
   ]
  },
  {
   "cell_type": "code",
   "execution_count": 12,
   "id": "db8176ba-c8ee-470e-b2fe-9c5aa83c2860",
   "metadata": {},
   "outputs": [
    {
     "data": {
      "text/plain": [
       "batting_team\n",
       "Chennai Super Kings            131\n",
       "Deccan Chargers                 75\n",
       "Delhi Daredevils               147\n",
       "Gujarat Lions                   30\n",
       "Kings XI Punjab                148\n",
       "Kochi Tuskers Kerala            14\n",
       "Kolkata Knight Riders          148\n",
       "Mumbai Indians                 157\n",
       "Pune Warriors                   45\n",
       "Rajasthan Royals               117\n",
       "Rising Pune Supergiant          16\n",
       "Rising Pune Supergiants         14\n",
       "Royal Challengers Bangalore    152\n",
       "Sunrisers Hyderabad             76\n",
       "Name: match_id, dtype: int64"
      ]
     },
     "execution_count": 12,
     "metadata": {},
     "output_type": "execute_result"
    }
   ],
   "source": [
    "# 12. How many matches have been played by each batting team?\n",
    "df.groupby(by='batting_team')['match_id'].nunique()"
   ]
  },
  {
   "cell_type": "code",
   "execution_count": 24,
   "id": "ea5a8958-740c-4135-ba6b-61f95bea9af4",
   "metadata": {},
   "outputs": [
    {
     "data": {
      "text/plain": [
       "over\n",
       "1     0.955635\n",
       "2     1.121601\n",
       "3     1.242057\n",
       "4     1.291698\n",
       "5     1.298832\n",
       "6     1.321933\n",
       "7     1.074869\n",
       "8     1.149635\n",
       "9     1.189325\n",
       "10    1.170981\n",
       "11    1.233177\n",
       "12    1.269347\n",
       "13    1.275509\n",
       "14    1.313694\n",
       "15    1.373206\n",
       "16    1.418031\n",
       "17    1.495300\n",
       "18    1.561685\n",
       "19    1.600031\n",
       "20    1.707736\n",
       "Name: total_runs, dtype: float64"
      ]
     },
     "execution_count": 24,
     "metadata": {},
     "output_type": "execute_result"
    }
   ],
   "source": [
    "# 13. What is the average number of runs scored in each over?\n",
    "df.groupby(by='over')['total_runs'].mean()"
   ]
  },
  {
   "cell_type": "code",
   "execution_count": 9,
   "id": "2ad99cf1-81ea-4a16-b490-f25871cd2f4d",
   "metadata": {},
   "outputs": [
    {
     "name": "stdout",
     "output_type": "stream",
     "text": [
      "KD Karthik 127\n"
     ]
    }
   ],
   "source": [
    "# 14. Which fielder has been involved in the most dismissals?\n",
    "a=df.groupby(by='fielder')['dismissal_kind'].count()\n",
    "b=a.idxmax()\n",
    "c=a.max()\n",
    "print(b,c)"
   ]
  },
  {
   "cell_type": "code",
   "execution_count": 12,
   "id": "136be42a-9508-433f-a1d9-62e2dadb4351",
   "metadata": {},
   "outputs": [
    {
     "data": {
      "text/plain": [
       "over\n",
       "1      7733\n",
       "2      8993\n",
       "3      9852\n",
       "4     10207\n",
       "5     10227\n",
       "6     10397\n",
       "7      8413\n",
       "8      8966\n",
       "9      9247\n",
       "10     9047\n",
       "11     9456\n",
       "12     9694\n",
       "13     9713\n",
       "14     9900\n",
       "15    10240\n",
       "16    10397\n",
       "17    10817\n",
       "18    10899\n",
       "19    10469\n",
       "20     9647\n",
       "Name: total_runs, dtype: int64"
      ]
     },
     "execution_count": 12,
     "metadata": {},
     "output_type": "execute_result"
    }
   ],
   "source": [
    "# 15. How does the number of runs scored vary with the over number?\n",
    "df.groupby('over')['total_runs'].sum()"
   ]
  },
  {
   "cell_type": "code",
   "execution_count": 14,
   "id": "7f6355b5-01e9-4d78-a46c-af0690308bba",
   "metadata": {},
   "outputs": [
    {
     "data": {
      "text/plain": [
       "0.0780851937510607"
      ]
     },
     "execution_count": 14,
     "metadata": {},
     "output_type": "execute_result"
    }
   ],
   "source": [
    "# 16. how is the relationship between the number of runs scored and the number of extras conceded?\n",
    "df[['total_runs', 'extra_runs']].corr().iloc[0, 1]"
   ]
  },
  {
   "cell_type": "code",
   "execution_count": 16,
   "id": "7b773e73-c4fa-483a-a40f-053a71c61c2d",
   "metadata": {},
   "outputs": [],
   "source": [
    "# 17. Are there any notable trends in the distribution of runs scored by batting teams across innings?\n"
   ]
  },
  {
   "cell_type": "code",
   "execution_count": 15,
   "id": "45123cf8-0e24-4c02-812b-2c6f47117fe3",
   "metadata": {},
   "outputs": [
    {
     "data": {
      "image/png": "[encoded data removed]",
      "text/plain": [
       "<Figure size 640x480 with 1 Axes>"
      ]
     },
     "metadata": {},
     "output_type": "display_data"
    }
   ],
   "source": [
    "import matplotlib.pyplot as plt\n",
    "runs_distribution_by_inning = df.groupby(['batting_team', 'inning'])['total_runs'].sum().unstack()\n",
    "runs_distribution_by_inning.plot(kind='bar', stacked=True, title='Runs Distribution by Batting Teams Across Innings')\n",
    "plt.show()"
   ]
  },
  {
   "cell_type": "code",
   "execution_count": 24,
   "id": "35603aac-7652-4a96-8a38-590cc4980137",
   "metadata": {},
   "outputs": [
    {
     "data": {
      "text/html": [
       "<div>\n",
       "<style scoped>\n",
       "    .dataframe tbody tr th:only-of-type {\n",
       "        vertical-align: middle;\n",
       "    }\n",
       "\n",
       "    .dataframe tbody tr th {\n",
       "        vertical-align: top;\n",
       "    }\n",
       "\n",
       "    .dataframe thead th {\n",
       "        text-align: right;\n",
       "    }\n",
       "</style>\n",
       "<table border=\"1\" class=\"dataframe\">\n",
       "  <thead>\n",
       "    <tr style=\"text-align: right;\">\n",
       "      <th></th>\n",
       "      <th>count</th>\n",
       "      <th>mean</th>\n",
       "      <th>std</th>\n",
       "      <th>min</th>\n",
       "      <th>25%</th>\n",
       "      <th>50%</th>\n",
       "      <th>75%</th>\n",
       "      <th>max</th>\n",
       "    </tr>\n",
       "    <tr>\n",
       "      <th>inning</th>\n",
       "      <th></th>\n",
       "      <th></th>\n",
       "      <th></th>\n",
       "      <th></th>\n",
       "      <th></th>\n",
       "      <th></th>\n",
       "      <th></th>\n",
       "      <th></th>\n",
       "    </tr>\n",
       "  </thead>\n",
       "  <tbody>\n",
       "    <tr>\n",
       "      <th>1</th>\n",
       "      <td>78029.0</td>\n",
       "      <td>1.301401</td>\n",
       "      <td>1.586114</td>\n",
       "      <td>0.0</td>\n",
       "      <td>0.0</td>\n",
       "      <td>1.0</td>\n",
       "      <td>1.0</td>\n",
       "      <td>7.0</td>\n",
       "    </tr>\n",
       "    <tr>\n",
       "      <th>2</th>\n",
       "      <td>72350.0</td>\n",
       "      <td>1.279806</td>\n",
       "      <td>1.579167</td>\n",
       "      <td>0.0</td>\n",
       "      <td>0.0</td>\n",
       "      <td>1.0</td>\n",
       "      <td>1.0</td>\n",
       "      <td>7.0</td>\n",
       "    </tr>\n",
       "    <tr>\n",
       "      <th>3</th>\n",
       "      <td>43.0</td>\n",
       "      <td>2.232558</td>\n",
       "      <td>2.136276</td>\n",
       "      <td>0.0</td>\n",
       "      <td>1.0</td>\n",
       "      <td>1.0</td>\n",
       "      <td>4.0</td>\n",
       "      <td>6.0</td>\n",
       "    </tr>\n",
       "    <tr>\n",
       "      <th>4</th>\n",
       "      <td>38.0</td>\n",
       "      <td>2.026316</td>\n",
       "      <td>2.072821</td>\n",
       "      <td>0.0</td>\n",
       "      <td>1.0</td>\n",
       "      <td>1.0</td>\n",
       "      <td>4.0</td>\n",
       "      <td>6.0</td>\n",
       "    </tr>\n",
       "  </tbody>\n",
       "</table>\n",
       "</div>"
      ],
      "text/plain": [
       "          count      mean       std  min  25%  50%  75%  max\n",
       "inning                                                      \n",
       "1       78029.0  1.301401  1.586114  0.0  0.0  1.0  1.0  7.0\n",
       "2       72350.0  1.279806  1.579167  0.0  0.0  1.0  1.0  7.0\n",
       "3          43.0  2.232558  2.136276  0.0  1.0  1.0  4.0  6.0\n",
       "4          38.0  2.026316  2.072821  0.0  1.0  1.0  4.0  6.0"
      ]
     },
     "execution_count": 24,
     "metadata": {},
     "output_type": "execute_result"
    }
   ],
   "source": [
    "df.groupby('inning')['total_runs'].describe()"
   ]
  },
  {
   "cell_type": "code",
   "execution_count": 26,
   "id": "59281727-1529-4bc9-97aa-8779f316fe27",
   "metadata": {},
   "outputs": [
    {
     "name": "stdout",
     "output_type": "stream",
     "text": [
      "Gujarat Lions 1.363432417274257\n"
     ]
    }
   ],
   "source": [
    "# 18. Which batting team has the highest average runs per match?\n",
    "a=df.groupby(by='batting_team')['total_runs'].mean()\n",
    "b=a.idxmax()\n",
    "c=a.max()\n",
    "print(b,c)"
   ]
  },
  {
   "cell_type": "code",
   "execution_count": 18,
   "id": "a91fb122-2ad4-446f-b97e-29bc2e58964b",
   "metadata": {},
   "outputs": [
    {
     "data": {
      "text/plain": [
       "batsman\n",
       "A Ashish Reddy     280\n",
       "A Chandila           4\n",
       "A Chopra            53\n",
       "A Choudhary         25\n",
       "A Flintoff          62\n",
       "                  ... \n",
       "YV Takawale        192\n",
       "Yashpal Singh       47\n",
       "Younis Khan          3\n",
       "Yuvraj Singh      2591\n",
       "Z Khan             117\n",
       "Name: batsman_runs, Length: 461, dtype: int64"
      ]
     },
     "execution_count": 18,
     "metadata": {},
     "output_type": "execute_result"
    }
   ],
   "source": [
    "# 19. What is the total runs scored by each batsman?\n",
    "df.groupby(by='batsman')['batsman_runs'].sum()"
   ]
  },
  {
   "cell_type": "code",
   "execution_count": 19,
   "id": "59cde156-dd82-4c9a-b7e6-847437c002ca",
   "metadata": {},
   "outputs": [
    {
     "data": {
      "text/plain": [
       "bowling_team\n",
       "Chennai Super Kings            6596.666667\n",
       "Deccan Chargers                5809.000000\n",
       "Delhi Daredevils               7447.666667\n",
       "Gujarat Lions                  1696.666667\n",
       "Kings XI Punjab                5817.500000\n",
       "Kochi Tuskers Kerala            993.000000\n",
       "Kolkata Knight Riders          7345.000000\n",
       "Mumbai Indians                 7945.000000\n",
       "Pune Warriors                  3428.500000\n",
       "Rajasthan Royals               5951.333333\n",
       "Rising Pune Supergiant         1218.000000\n",
       "Rising Pune Supergiants        1056.500000\n",
       "Royal Challengers Bangalore    5905.500000\n",
       "Sunrisers Hyderabad            3821.666667\n",
       "Name: total_runs, dtype: float64"
      ]
     },
     "execution_count": 19,
     "metadata": {},
     "output_type": "execute_result"
    }
   ],
   "source": [
    "# 20. How does the average number of runs scored per inning vary across different bowling teams?\n",
    "a=df.groupby(['bowling_team','inning'])['total_runs'].sum()\n",
    "a.groupby('bowling_team').mean()"
   ]
  },
  {
   "cell_type": "code",
   "execution_count": 20,
   "id": "aac547e5-a028-4af4-a4ec-078b7e334ea1",
   "metadata": {},
   "outputs": [
    {
     "data": {
      "text/plain": [
       "-0.008702741691253043"
      ]
     },
     "execution_count": 20,
     "metadata": {},
     "output_type": "execute_result"
    }
   ],
   "source": [
    "# 21. how is the relationship between the number of wides and the number of no balls bowled?\n",
    "df[['wide_runs', 'noball_runs']].corr().iloc[0, 1]"
   ]
  },
  {
   "cell_type": "code",
   "execution_count": 27,
   "id": "c52d2613-cb8c-4774-8848-c39f0bfdd46b",
   "metadata": {},
   "outputs": [
    {
     "name": "stdout",
     "output_type": "stream",
     "text": [
      "Batting team with the highest number of centuries: Series([], Name: batsman, dtype: int64)\n"
     ]
    }
   ],
   "source": [
    "# 22. Which batting team has the highest number of centuries?\n",
    "centuries_by_team = df[df['batsman_runs'] >= 100].groupby('batting_team')['batsman'].count()\n",
    "team_highest_centuries = centuries_by_team.sort_values(ascending=False).head(1)\n",
    "print(\"Batting team with the highest number of centuries:\", team_highest_centuries)"
   ]
  },
  {
   "cell_type": "code",
   "execution_count": 29,
   "id": "135ec875-6b02-4483-984f-8ace312321d6",
   "metadata": {},
   "outputs": [
    {
     "data": {
      "text/plain": [
       "over\n",
       "1     481\n",
       "2     442\n",
       "3     359\n",
       "4     295\n",
       "5     279\n",
       "6     307\n",
       "7     330\n",
       "8     261\n",
       "9     255\n",
       "10    227\n",
       "11    182\n",
       "12    220\n",
       "13    241\n",
       "14    224\n",
       "15    248\n",
       "16    254\n",
       "17    264\n",
       "18    271\n",
       "19    264\n",
       "20    238\n",
       "Name: wide_runs, dtype: int64"
      ]
     },
     "execution_count": 29,
     "metadata": {},
     "output_type": "execute_result"
    }
   ],
   "source": [
    "# 23. How does the number of wides vary with the over number?\n",
    "df.groupby('over')['wide_runs'].sum()"
   ]
  },
  {
   "cell_type": "code",
   "execution_count": 30,
   "id": "49b5af08-8a5b-4190-80ef-3a66ee61a356",
   "metadata": {},
   "outputs": [
    {
     "data": {
      "text/plain": [
       "12.357142857142858"
      ]
     },
     "execution_count": 30,
     "metadata": {},
     "output_type": "execute_result"
    }
   ],
   "source": [
    "# 24. What is the average number of runs scored per inning in matches with a super over?\n",
    "df[df['is_super_over'] == 1].groupby(['match_id', 'inning'])['total_runs'].sum().mean()"
   ]
  },
  {
   "cell_type": "code",
   "execution_count": 31,
   "id": "a4cbc0dd-6631-4c9d-bfdf-797c5fe666de",
   "metadata": {},
   "outputs": [
    {
     "data": {
      "text/plain": [
       "over\n",
       "1     768\n",
       "2     730\n",
       "3     629\n",
       "4     562\n",
       "5     495\n",
       "6     582\n",
       "7     553\n",
       "8     465\n",
       "9     459\n",
       "10    437\n",
       "11    379\n",
       "12    395\n",
       "13    451\n",
       "14    426\n",
       "15    425\n",
       "16    458\n",
       "17    548\n",
       "18    531\n",
       "19    527\n",
       "20    565\n",
       "Name: extra_runs, dtype: int64"
      ]
     },
     "execution_count": 31,
     "metadata": {},
     "output_type": "execute_result"
    }
   ],
   "source": [
    "# 25. How does the number of extras vary with the over number?\n",
    "df.groupby('over')['extra_runs'].sum()"
   ]
  },
  {
   "cell_type": "code",
   "execution_count": 32,
   "id": "e0bebd22-98a2-4a26-9bdb-18117371a33d",
   "metadata": {},
   "outputs": [
    {
     "data": {
      "text/plain": [
       "bowler\n",
       "PP Chawla    174.473684\n",
       "dtype: float64"
      ]
     },
     "execution_count": 32,
     "metadata": {},
     "output_type": "execute_result"
    }
   ],
   "source": [
    "# 26. Which bowler has the highest economy rate?\n",
    "total_runs_conceded_by_bowler = df.groupby('bowler')['total_runs'].sum()\n",
    "total_overs_bowled_by_bowler = df.groupby('bowler')['over'].nunique()\n",
    "economy_rate_by_bowler = total_runs_conceded_by_bowler / total_overs_bowled_by_bowler\n",
    "highest_economy_bowler = economy_rate_by_bowler.sort_values(ascending=False).head(1)\n",
    "highest_economy_bowler"
   ]
  },
  {
   "cell_type": "code",
   "execution_count": 38,
   "id": "001bee23-c182-478f-8bbf-b52966fd93e7",
   "metadata": {},
   "outputs": [
    {
     "data": {
      "image/png": "[encoded data removed]",
      "text/plain": [
       "<Figure size 1000x600 with 1 Axes>"
      ]
     },
     "metadata": {},
     "output_type": "display_data"
    }
   ],
   "source": [
    "# 27. How does the number of dismissals vary across different dismissal kinds?\n",
    "dismissal_counts = df['dismissal_kind'].value_counts()\n",
    "\n",
    "# Plot the data\n",
    "plt.figure(figsize=(10, 6))\n",
    "dismissal_counts.plot(kind='bar', color='skyblue')\n",
    "plt.xlabel('dismissal_kind')\n",
    "plt.ylabel('Number of Dismissals')\n",
    "plt.title('Number of Dismissals by Dismissal Kind')\n",
    "plt.xticks(rotation=45)\n",
    "plt.grid(axis='y', linestyle='--', alpha=0.7)\n",
    "plt.show()"
   ]
  },
  {
   "cell_type": "code",
   "execution_count": 34,
   "id": "377d65e9-d238-480a-9b79-cedf41a98e2c",
   "metadata": {},
   "outputs": [
    {
     "data": {
      "text/plain": [
       "dismissal_kind\n",
       "caught                   4373\n",
       "bowled                   1382\n",
       "run out                   755\n",
       "lbw                       455\n",
       "stumped                   243\n",
       "caught and bowled         211\n",
       "retired hurt                9\n",
       "hit wicket                  9\n",
       "obstructing the field       1\n",
       "Name: count, dtype: int64"
      ]
     },
     "execution_count": 34,
     "metadata": {},
     "output_type": "execute_result"
    }
   ],
   "source": [
    "df['dismissal_kind'].value_counts()"
   ]
  },
  {
   "cell_type": "code",
   "execution_count": 37,
   "id": "21a76270-0382-4aca-8e4d-dff21177dd46",
   "metadata": {},
   "outputs": [
    {
     "name": "stdout",
     "output_type": "stream",
     "text": [
      "Distribution of runs scored by each batting team in super overs:\n",
      " batting_team\n",
      "Chennai Super Kings             9\n",
      "Delhi Daredevils               11\n",
      "Gujarat Lions                   6\n",
      "Kings XI Punjab                25\n",
      "Kolkata Knight Riders          26\n",
      "Mumbai Indians                 11\n",
      "Rajasthan Royals               35\n",
      "Royal Challengers Bangalore    30\n",
      "Sunrisers Hyderabad            20\n",
      "Name: total_runs, dtype: int64\n"
     ]
    }
   ],
   "source": [
    "# 28. What is the distribution of runs scored by each batting team in super overs?\n",
    "runs_super_over_by_team = df[df['is_super_over'] == 1].groupby('batting_team')['total_runs'].sum()\n",
    "print(\"Distribution of runs scored by each batting team in super overs:\\n\", runs_super_over_by_team)"
   ]
  },
  {
   "cell_type": "code",
   "execution_count": null,
   "id": "7fc56a15-d5db-4d03-9cd5-88bf93fea2a5",
   "metadata": {},
   "outputs": [],
   "source": []
  }
 ],
 "metadata": {
  "kernelspec": {
   "display_name": "Python 3 (ipykernel)",
   "language": "python",
   "name": "python3"
  },
  "language_info": {
   "codemirror_mode": {
    "name": "ipython",
    "version": 3
   },
   "file_extension": ".py",
   "mimetype": "text/x-python",
   "name": "python",
   "nbconvert_exporter": "python",
   "pygments_lexer": "ipython3",
   "version": "3.11.7"
  }
 },
 "nbformat": 4,
 "nbformat_minor": 5
}
